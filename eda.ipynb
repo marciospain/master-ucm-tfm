{
 "cells": [
  {
   "cell_type": "markdown",
   "id": "21367026",
   "metadata": {},
   "source": [
    "# Fase 1 - Análisis Exploratorio de Datos (EDA)\n",
    "\n",
    "El objetivo de esta fase es explorar y entender los datos disponibles. Describiremos las variables con graficos y estadísticas descriptivas, para identificar patrones, tendencias y posibles problemas en los datos."
   ]
  },
  {
   "cell_type": "code",
   "execution_count": 3,
   "id": "86f60a3a",
   "metadata": {},
   "outputs": [],
   "source": [
    "# Importar las librerías necesarias\n",
    "import pandas as pd\n",
    "import numpy as np\n",
    "import matplotlib.pyplot as plt\n",
    "import seaborn as sns\n",
    "import pickle\n",
    "\n",
    "# Customizaciones\n",
    "sns.set_style('darkgrid')\n",
    "pd.set_option('display.max_columns', None)"
   ]
  },
  {
   "cell_type": "code",
   "execution_count": 7,
   "id": "581090fc",
   "metadata": {},
   "outputs": [
    {
     "name": "stdout",
     "output_type": "stream",
     "text": [
      "   Diabetes_binary  HighBP  HighChol  CholCheck   BMI  Smoker  Stroke  \\\n",
      "0              0.0     1.0       0.0        1.0  26.0     0.0     0.0   \n",
      "1              0.0     1.0       1.0        1.0  26.0     1.0     1.0   \n",
      "2              0.0     0.0       0.0        1.0  26.0     0.0     0.0   \n",
      "3              0.0     1.0       1.0        1.0  28.0     1.0     0.0   \n",
      "4              0.0     0.0       0.0        1.0  29.0     1.0     0.0   \n",
      "\n",
      "   HeartDiseaseorAttack  PhysActivity  Fruits  Veggies  HvyAlcoholConsump  \\\n",
      "0                   0.0           1.0     0.0      1.0                0.0   \n",
      "1                   0.0           0.0     1.0      0.0                0.0   \n",
      "2                   0.0           1.0     1.0      1.0                0.0   \n",
      "3                   0.0           1.0     1.0      1.0                0.0   \n",
      "4                   0.0           1.0     1.0      1.0                0.0   \n",
      "\n",
      "   AnyHealthcare  NoDocbcCost  GenHlth  MentHlth  PhysHlth  DiffWalk  Sex  \\\n",
      "0            1.0          0.0      3.0       5.0      30.0       0.0  1.0   \n",
      "1            1.0          0.0      3.0       0.0       0.0       0.0  1.0   \n",
      "2            1.0          0.0      1.0       0.0      10.0       0.0  1.0   \n",
      "3            1.0          0.0      3.0       0.0       3.0       0.0  1.0   \n",
      "4            1.0          0.0      2.0       0.0       0.0       0.0  0.0   \n",
      "\n",
      "    Age  Education  Income  \n",
      "0   4.0        6.0     8.0  \n",
      "1  12.0        6.0     8.0  \n",
      "2  13.0        6.0     8.0  \n",
      "3  11.0        6.0     8.0  \n",
      "4   8.0        5.0     8.0  \n"
     ]
    }
   ],
   "source": [
    "# Cargar los datos en un DataFrame de pandas\n",
    "df = pd.read_csv('data/diabetes_binary_5050split_health_indicators_BRFSS2015.csv')\n",
    "\n",
    "# Mostrar las primeras filas del DataFrame\n",
    "print(df.head())"
   ]
  },
  {
   "cell_type": "markdown",
   "id": "e2c69f97",
   "metadata": {},
   "source": [
    "| Variable               | Descripción                                                                            | Valores posibles                                                                                                                                                                                                                                                                                            |                            |\n",
    "| ---------------------- | -------------------------------------------------------------------------------------- | ----------------------------------------------------------------------------------------------------------------------------------------------------------------------------------------------------------------------------------------------------------------------------------------------------------- | -------------------------- |\n",
    "| `Diabetes_binary`      | Indica si el encuestado tiene diabetes o prediabetes.                                  | 0 = No tiene diabetes, 1 = Tiene prediabetes o diabetes                                                                                                                                                                                                                                                     |                            |\n",
    "| `HighBP`               | Indica si el encuestado tiene hipertensión.                                            | 0 = No tiene hipertensión, 1 = Tiene hipertensión                                                                                                                                                                                                                                                           |                            |\n",
    "| `HighChol`             | Indica si el encuestado tiene colesterol alto.                                         | 0 = No tiene colesterol alto, 1 = Tiene colesterol alto                                                                                                                                                                                                                                                     |                            |\n",
    "| `CholCheck`            | Indica si el encuestado ha tenido un chequeo de colesterol en los últimos 5 años.      | 0 = No, 1 = Sí                                                                                                                                                                                                                                                                                              |                            |\n",
    "| `BMI`                  | Índice de masa corporal del encuestado.                                                | Valor numérico                                                                                                                                                                                                                                                                                              |                            |\n",
    "| `Smoker`               | Indica si el encuestado es fumador.                                                    | 0 = No fuma, 1 = Fuma                                                                                                                                                                                                                                                                                       |                            |\n",
    "| `Stroke`               | Indica si el encuestado ha tenido un derrame cerebral.                                 | 0 = No ha tenido, 1 = Ha tenido                                                                                                                                                                                                                                                                             |                            |\n",
    "| `HeartDiseaseorAttack` | Indica si el encuestado ha tenido una enfermedad cardíaca o ataque al corazón.         | 0 = No ha tenido, 1 = Ha tenido                                                                                                                                                                                                                                                                             |                            |\n",
    "| `PhysActivity`         | Indica si el encuestado realiza actividad física en su tiempo libre.                   | 0 = No, 1 = Sí                                                                                                                                                                                                                                                                                              |                            |\n",
    "| `Fruits`               | Indica si el encuestado consume frutas al menos una vez al día.                        | 0 = No, 1 = Sí                                                                                                                                                                                                                                                                                              |                            |\n",
    "| `Veggies`              | Indica si el encuestado consume verduras al menos una vez al día.                      | 0 = No, 1 = Sí                                                                                                                                                                                                                                                                                              |                            |\n",
    "| `HvyAlcoholConsump`    | Indica si el encuestado consume alcohol en exceso.                                     | 0 = No, 1 = Sí                                                                                                                                                                                                                                                                                              |                            |\n",
    "| `AnyHealthcare`        | Indica si el encuestado tiene acceso a atención médica.                                | 0 = No, 1 = Sí                                                                                                                                                                                                                                                                                              |                            |\n",
    "| `NoDocbcCost`          | Indica si el encuestado no ha visitado al médico debido a costos.                      | 0 = No, 1 = Sí                                                                                                                                                                                                                                                                                              |                            |\n",
    "| `GenHlth`              | Autoevaluación del estado de salud general del encuestado.                             | 1 = Excelente, 2 = Muy buena, 3 = Buena, 4 = Regular, 5 = Mala                                                                                                                                                                                                                                              |                            |\n",
    "| `MentHlth`             | Número de días en los últimos 30 días que la salud mental del encuestado no fue buena. | Valor numérico (días)                                                                                                                                                                                                                                                                                       |                            |\n",
    "| `PhysHlth`             | Número de días en los últimos 30 días que la salud física del encuestado no fue buena. | Valor numérico (días)                                                                                                                                                                                                                                                                                       |                            |\n",
    "| `DiffWalk`             | Indica si el encuestado tiene dificultad para caminar.                                 | 0 = No, 1 = Sí                                                                                                                                                                                                                                                                                              |                            |\n",
    "| `Sex`                  | Sexo del encuestado.                                                                   | 0 = Hombre, 1 = Mujer                                                                                                                                                                                                                                                                                       |                            |\n",
    "| `Age`                  | Rango de edad del encuestado.                                                          | 1 = 18-24, 2 = 25-29, 3 = 30-34, 4 = 35-39, 5 = 40-44, 6 = 45-49, 7 = 50-54, 8 = 55-59, 9 = 60-64, 10 = 65-69, 11 = 70-74, 12 = 75-79, 13 = 80+                                                                                                                                                             |                            |\n",
    "| `Education`            | Nivel educativo alcanzado por el encuestado.                                           | 1 = Menos de primaria, 2 = Primaria, 3 = Secundaria, 4 = Preparatoria, 5 = Universidad o más                                                                                                                                                                                                                |                            |\n",
    "| `Income`               | Nivel de ingresos anuales del encuestado.                                              | 1 = Menos de \\$10,000, 2 = \\$10,000–\\$14,999, 3 = \\$15,000–\\$19,999, 4 = \\$20,000–\\$24,999, 5 = \\$25,000–\\$29,999, 6 = \\$30,000–\\$34,999, 7 = \\$35,000–\\$39,999, 8 = \\$40,000–\\$44,999, 9 = \\$45,000–\\$49,999, 10 = \\$50,000–\\$59,999, 11 = \\$60,000–\\$74,999, 12 = \\$75,000–\\$99,999, 13 = \\$100,000 o más |                            |\n"
   ]
  }
 ],
 "metadata": {
  "kernelspec": {
   "display_name": "tfm-env",
   "language": "python",
   "name": "python3"
  },
  "language_info": {
   "codemirror_mode": {
    "name": "ipython",
    "version": 3
   },
   "file_extension": ".py",
   "mimetype": "text/x-python",
   "name": "python",
   "nbconvert_exporter": "python",
   "pygments_lexer": "ipython3",
   "version": "3.13.5"
  }
 },
 "nbformat": 4,
 "nbformat_minor": 5
}
